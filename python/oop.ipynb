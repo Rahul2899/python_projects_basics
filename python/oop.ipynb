{
 "cells": [
  {
   "cell_type": "markdown",
   "metadata": {},
   "source": [
    "CLASSES"
   ]
  },
  {
   "cell_type": "code",
   "execution_count": 1,
   "metadata": {},
   "outputs": [],
   "source": [
    "#claases as boiler plate for objects\n",
    "class Person():\n",
    "    #The method that runs as soon as you create a class= initialise\n",
    "    def __init__(self,name,age,color):\n",
    "        #create some attribute for our person class\n",
    "        self.name = name\n",
    "        self.age = age\n",
    "        self.color = color\n",
    "    def year_birth(self):\n",
    "            return 2024-self.age\n",
    "\n",
    "    def predict_age(self,year=5):\n",
    "        return self.age + year"
   ]
  },
  {
   "cell_type": "code",
   "execution_count": 2,
   "metadata": {},
   "outputs": [],
   "source": [
    "new_person= Person('Elon musk',38,'blue')"
   ]
  },
  {
   "cell_type": "code",
   "execution_count": 3,
   "metadata": {},
   "outputs": [
    {
     "data": {
      "text/plain": [
       "38"
      ]
     },
     "execution_count": 3,
     "metadata": {},
     "output_type": "execute_result"
    }
   ],
   "source": [
    "#Accessing a class attribute\n",
    "new_person.age"
   ]
  },
  {
   "cell_type": "code",
   "execution_count": 4,
   "metadata": {},
   "outputs": [
    {
     "data": {
      "text/plain": [
       "1986"
      ]
     },
     "execution_count": 4,
     "metadata": {},
     "output_type": "execute_result"
    }
   ],
   "source": [
    "#Run a method\n",
    "new_person.year_birth()"
   ]
  },
  {
   "cell_type": "code",
   "execution_count": 5,
   "metadata": {},
   "outputs": [
    {
     "data": {
      "text/plain": [
       "43"
      ]
     },
     "execution_count": 5,
     "metadata": {},
     "output_type": "execute_result"
    }
   ],
   "source": [
    "#Run  a method with keyword argument\n",
    "new_person.predict_age()"
   ]
  },
  {
   "cell_type": "code",
   "execution_count": 6,
   "metadata": {},
   "outputs": [],
   "source": [
    "#INHERITENCE -Parent is the class passing down attributes and methods \n",
    "#child is the class inheriting the methods and attributes\n",
    "class Astronaut(Person):\n",
    "\n",
    "    #Define  initialization function\n",
    "    def __init__(self,name,age, color, mission_lenght_in_months):\n",
    "        #This is what gives us inheritence \n",
    "        super().__init__(name,age,color)\n",
    "        self.mission_lenght_in_months = mission_lenght_in_months\n",
    "\n",
    "    def age_on_return(self):\n",
    "        return self.predict_age(year=int(self.mission_lenght_in_months/12))\n"
   ]
  },
  {
   "cell_type": "code",
   "execution_count": 7,
   "metadata": {},
   "outputs": [],
   "source": [
    "new_astronaut = Astronaut('Nick',99,'black',44 )"
   ]
  },
  {
   "cell_type": "code",
   "execution_count": 8,
   "metadata": {},
   "outputs": [
    {
     "data": {
      "text/plain": [
       "'black'"
      ]
     },
     "execution_count": 8,
     "metadata": {},
     "output_type": "execute_result"
    }
   ],
   "source": [
    "#Accesing parent like attribute\n",
    "new_astronaut.color"
   ]
  },
  {
   "cell_type": "code",
   "execution_count": 9,
   "metadata": {},
   "outputs": [
    {
     "data": {
      "text/plain": [
       "1925"
      ]
     },
     "execution_count": 9,
     "metadata": {},
     "output_type": "execute_result"
    }
   ],
   "source": [
    "new_astronaut.year_birth()"
   ]
  },
  {
   "cell_type": "code",
   "execution_count": 10,
   "metadata": {},
   "outputs": [
    {
     "data": {
      "text/plain": [
       "102"
      ]
     },
     "execution_count": 10,
     "metadata": {},
     "output_type": "execute_result"
    }
   ],
   "source": [
    "new_astronaut.age_on_return()"
   ]
  },
  {
   "cell_type": "code",
   "execution_count": 27,
   "metadata": {},
   "outputs": [],
   "source": [
    "class India():\n",
    "    #Defining a function for the parent class\n",
    "    def __init__(self,state,city,population):\n",
    "        self.state = state\n",
    "        self.city = city\n",
    "        self.population = population\n",
    "\n",
    "    def district_state(self):\n",
    "        return "
   ]
  },
  {
   "cell_type": "code",
   "execution_count": 28,
   "metadata": {},
   "outputs": [],
   "source": [
    "new_district= India('Maharashtra', 'Thane', population=1100000)\n",
    "#ew_district= India(state='Maharashtra',city='Mumbai',20000000)"
   ]
  },
  {
   "cell_type": "code",
   "execution_count": 29,
   "metadata": {},
   "outputs": [
    {
     "ename": "TypeError",
     "evalue": "'str' object is not callable",
     "output_type": "error",
     "traceback": [
      "\u001b[1;31m---------------------------------------------------------------------------\u001b[0m",
      "\u001b[1;31mTypeError\u001b[0m                                 Traceback (most recent call last)",
      "Cell \u001b[1;32mIn[29], line 1\u001b[0m\n\u001b[1;32m----> 1\u001b[0m \u001b[43mnew_district\u001b[49m\u001b[38;5;241;43m.\u001b[39;49m\u001b[43mcity\u001b[49m\u001b[43m(\u001b[49m\u001b[43m)\u001b[49m\n",
      "\u001b[1;31mTypeError\u001b[0m: 'str' object is not callable"
     ]
    }
   ],
   "source": [
    "new_district.city()"
   ]
  },
  {
   "cell_type": "code",
   "execution_count": 30,
   "metadata": {},
   "outputs": [
    {
     "name": "stdout",
     "output_type": "stream",
     "text": [
      "Thane\n",
      "Thane\n"
     ]
    }
   ],
   "source": [
    "class India:\n",
    "    # Defining a function for the parent class\n",
    "    def __init__(self, state, city, population):\n",
    "        self.state = state\n",
    "        self.city = city\n",
    "        self.population = population\n",
    "\n",
    "    def district_state(self):\n",
    "        return self.city\n",
    "\n",
    "# Creating an instance of the India class\n",
    "new_district = India('Maharashtra', 'Thane', population=1100000)\n",
    "\n",
    "# Accessing the city attribute\n",
    "print(new_district.city)  # Output: Thane\n",
    "\n",
    "# Using the district_state method\n",
    "print(new_district.district_state())  # Output: Thane\n"
   ]
  },
  {
   "cell_type": "code",
   "execution_count": 79,
   "metadata": {},
   "outputs": [],
   "source": [
    "#BANK LOAN APPROVAL\n",
    "#Parent classs and initilization\n",
    "\n",
    "class Loan():\n",
    "    # Initialization with arguments\n",
    "    def __init__(self, credit_score, profession, collateral):\n",
    "        self.credit_score = credit_score\n",
    "        self.profession = profession\n",
    "        self.collateral = collateral\n",
    "\n",
    "    def file_check(self):\n",
    "        if self.credit_score >= 800 and self.profession == 'Job' and self.collateral == 'land':\n",
    "            print('File moved forward')\n",
    "        else:\n",
    "            print('File cannot be approved')"
   ]
  },
  {
   "cell_type": "code",
   "execution_count": 80,
   "metadata": {},
   "outputs": [],
   "source": [
    "file_info = Loan(700, 'Job', 'land')"
   ]
  },
  {
   "cell_type": "code",
   "execution_count": 81,
   "metadata": {},
   "outputs": [
    {
     "name": "stdout",
     "output_type": "stream",
     "text": [
      "File cannot be approved\n"
     ]
    }
   ],
   "source": [
    "file_info.file_check()"
   ]
  },
  {
   "cell_type": "code",
   "execution_count": null,
   "metadata": {},
   "outputs": [],
   "source": [
    "#Creating a child class of the parent\n",
    "\n",
    "class "
   ]
  }
 ],
 "metadata": {
  "kernelspec": {
   "display_name": "Python 3",
   "language": "python",
   "name": "python3"
  },
  "language_info": {
   "codemirror_mode": {
    "name": "ipython",
    "version": 3
   },
   "file_extension": ".py",
   "mimetype": "text/x-python",
   "name": "python",
   "nbconvert_exporter": "python",
   "pygments_lexer": "ipython3",
   "version": "3.10.11"
  }
 },
 "nbformat": 4,
 "nbformat_minor": 2
}
