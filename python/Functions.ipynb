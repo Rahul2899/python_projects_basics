{
 "cells": [
  {
   "cell_type": "markdown",
   "metadata": {},
   "source": [
    "FUNCTIONS"
   ]
  },
  {
   "cell_type": "code",
   "execution_count": null,
   "metadata": {},
   "outputs": [],
   "source": [
    "# Defining a function in Python\n",
    "def launchpad_welcome(num1, num2):\n",
    "    total=num1 + num2\n",
    "    for sum in range(10):\n",
    "        total +=1\n",
    "        print(\"always the value is greater than one:\", total)\n",
    "    \n",
    "\n",
    "\n",
    "    #print('hello')"
   ]
  },
  {
   "cell_type": "code",
   "execution_count": 54,
   "metadata": {},
   "outputs": [],
   "source": [
    "def divisible_num(num1, num2):\n",
    "    for number in range(num2):\n",
    "        if num1 % 2 == 0:  # Check if num1 is divisible by 2\n",
    "            print(\"It is a divisible number:\", number)\n",
    "        else:\n",
    "            print(\"Not required\")\n"
   ]
  },
  {
   "cell_type": "code",
   "execution_count": 60,
   "metadata": {},
   "outputs": [],
   "source": [
    "def launchpad():\n",
    "    print(\"hello\")\n",
    "    print(1+2)\n",
    "    print(3+4)"
   ]
  },
  {
   "cell_type": "code",
   "execution_count": 61,
   "metadata": {},
   "outputs": [
    {
     "name": "stdout",
     "output_type": "stream",
     "text": [
      "hello\n",
      "3\n",
      "7\n",
      "hello\n",
      "3\n",
      "7\n",
      "hello\n",
      "3\n",
      "7\n",
      "hello\n",
      "3\n",
      "7\n",
      "hello\n",
      "3\n",
      "7\n"
     ]
    }
   ],
   "source": [
    "for id in range(5):\n",
    "    launchpad()"
   ]
  },
  {
   "cell_type": "code",
   "execution_count": 78,
   "metadata": {},
   "outputs": [],
   "source": [
    "names=['rahul','rohan','snehal','sai','sahil','aditya']\n",
    "space=['maruti','toyots','mercedes','suzuki','dio','honda']"
   ]
  },
  {
   "cell_type": "code",
   "execution_count": 68,
   "metadata": {},
   "outputs": [],
   "source": [
    "def list_names(name):\n",
    "    print('Welcome {}'.format(name))"
   ]
  },
  {
   "cell_type": "code",
   "execution_count": 85,
   "metadata": {},
   "outputs": [
    {
     "ename": "TypeError",
     "evalue": "list_names() missing 1 required positional argument: 'space_ship'",
     "output_type": "error",
     "traceback": [
      "\u001b[1;31m---------------------------------------------------------------------------\u001b[0m",
      "\u001b[1;31mTypeError\u001b[0m                                 Traceback (most recent call last)",
      "Cell \u001b[1;32mIn[85], line 2\u001b[0m\n\u001b[0;32m      1\u001b[0m \u001b[38;5;28;01mfor\u001b[39;00m idx, name \u001b[38;5;129;01min\u001b[39;00m \u001b[38;5;28menumerate\u001b[39m(names):\n\u001b[1;32m----> 2\u001b[0m     \u001b[43mlist_names\u001b[49m\u001b[43m(\u001b[49m\u001b[43mname\u001b[49m\u001b[43m)\u001b[49m\n",
      "\u001b[1;31mTypeError\u001b[0m: list_names() missing 1 required positional argument: 'space_ship'"
     ]
    }
   ],
   "source": [
    "for idx, name in enumerate(names):\n",
    "    list_names(name)"
   ]
  },
  {
   "cell_type": "code",
   "execution_count": 90,
   "metadata": {},
   "outputs": [],
   "source": [
    "# multiple positional arguments \n",
    "def list_names(name):\n",
    "    print('Welcome {}to the {}'.format(name))"
   ]
  },
  {
   "cell_type": "code",
   "execution_count": 91,
   "metadata": {},
   "outputs": [
    {
     "ename": "TypeError",
     "evalue": "list_names() takes 1 positional argument but 2 were given",
     "output_type": "error",
     "traceback": [
      "\u001b[1;31m---------------------------------------------------------------------------\u001b[0m",
      "\u001b[1;31mTypeError\u001b[0m                                 Traceback (most recent call last)",
      "Cell \u001b[1;32mIn[91], line 1\u001b[0m\n\u001b[1;32m----> 1\u001b[0m \u001b[43mlist_names\u001b[49m\u001b[43m(\u001b[49m\u001b[38;5;124;43m'\u001b[39;49m\u001b[38;5;124;43mrahul\u001b[39;49m\u001b[38;5;124;43m'\u001b[39;49m\u001b[43m,\u001b[49m\u001b[38;5;124;43m'\u001b[39;49m\u001b[38;5;124;43mgalatic\u001b[39;49m\u001b[38;5;124;43m'\u001b[39;49m\u001b[43m)\u001b[49m\n",
      "\u001b[1;31mTypeError\u001b[0m: list_names() takes 1 positional argument but 2 were given"
     ]
    }
   ],
   "source": [
    "list_names('rahul','galatic')"
   ]
  },
  {
   "cell_type": "code",
   "execution_count": 94,
   "metadata": {},
   "outputs": [
    {
     "ename": "TypeError",
     "evalue": "list_names() takes 1 positional argument but 2 were given",
     "output_type": "error",
     "traceback": [
      "\u001b[1;31m---------------------------------------------------------------------------\u001b[0m",
      "\u001b[1;31mTypeError\u001b[0m                                 Traceback (most recent call last)",
      "Cell \u001b[1;32mIn[94], line 4\u001b[0m\n\u001b[0;32m      1\u001b[0m \u001b[38;5;28;01mfor\u001b[39;00m idx,name \u001b[38;5;129;01min\u001b[39;00m \u001b[38;5;28menumerate\u001b[39m(names) :\n\u001b[0;32m      2\u001b[0m     ship\u001b[38;5;241m=\u001b[39m space[idx]\n\u001b[1;32m----> 4\u001b[0m     \u001b[43mlist_names\u001b[49m\u001b[43m(\u001b[49m\u001b[43mname\u001b[49m\u001b[43m,\u001b[49m\u001b[43mship\u001b[49m\u001b[43m)\u001b[49m\n",
      "\u001b[1;31mTypeError\u001b[0m: list_names() takes 1 positional argument but 2 were given"
     ]
    }
   ],
   "source": [
    "for idx,name in enumerate(names) :\n",
    "    ship= space[idx]\n",
    "\n",
    "    list_names(name,ship)\n",
    "    "
   ]
  },
  {
   "cell_type": "code",
   "execution_count": 105,
   "metadata": {},
   "outputs": [],
   "source": [
    "players=['sachin','dravid','sehwag','kohli']\n",
    "teams=['mi','dd','csk','rcb']"
   ]
  },
  {
   "cell_type": "code",
   "execution_count": 106,
   "metadata": {},
   "outputs": [],
   "source": [
    "def auction_players(player,team):\n",
    "    print('Welcome {} to the new team of  {}'.format(player,team))"
   ]
  },
  {
   "cell_type": "code",
   "execution_count": 108,
   "metadata": {},
   "outputs": [
    {
     "name": "stdout",
     "output_type": "stream",
     "text": [
      "Welcome sachin to the new team of  mi\n",
      "Welcome dravid to the new team of  dd\n",
      "Welcome sehwag to the new team of  csk\n",
      "Welcome kohli to the new team of  rcb\n"
     ]
    }
   ],
   "source": [
    "#used the enumerate function to get the positional index and name\n",
    "for idx,player in enumerate(players):\n",
    "    new_team=teams[idx]\n",
    "    auction_players(player,new_team)\n"
   ]
  },
  {
   "cell_type": "code",
   "execution_count": 112,
   "metadata": {},
   "outputs": [],
   "source": [
    "#Defining key argument\n",
    "def bidding_price(price='1 cr'):\n",
    "    print('the bidding price is {}'.format(price))\n"
   ]
  },
  {
   "cell_type": "code",
   "execution_count": 113,
   "metadata": {},
   "outputs": [
    {
     "name": "stdout",
     "output_type": "stream",
     "text": [
      "the bidding price is 1 cr\n"
     ]
    }
   ],
   "source": [
    "bidding_price()"
   ]
  },
  {
   "cell_type": "code",
   "execution_count": 114,
   "metadata": {},
   "outputs": [
    {
     "name": "stdout",
     "output_type": "stream",
     "text": [
      "the bidding price is 2 cr\n"
     ]
    }
   ],
   "source": [
    "bidding_price(price='2 cr')"
   ]
  },
  {
   "cell_type": "code",
   "execution_count": 118,
   "metadata": {},
   "outputs": [],
   "source": [
    "def auctions_team(player,team, price='2 cr',highest='10 cr'):\n",
    "    return 'welcome {} to the team {} your bid was {} and the highest bid  is {}'.format(player,team,price,highest)\n"
   ]
  },
  {
   "cell_type": "code",
   "execution_count": 119,
   "metadata": {},
   "outputs": [
    {
     "data": {
      "text/plain": [
       "'welcome rahul to the team 5 cr your bid was 2 cr and the highest bid  is 10 cr'"
      ]
     },
     "execution_count": 119,
     "metadata": {},
     "output_type": "execute_result"
    }
   ],
   "source": [
    "auctions_team('rahul','5 cr')"
   ]
  },
  {
   "cell_type": "code",
   "execution_count": 122,
   "metadata": {},
   "outputs": [],
   "source": [
    "#LAMBA FUNCTION (ANONMYOUS FUNCTION)\n",
    "pi = lambda x:x*3.14 + x*5+5\n"
   ]
  },
  {
   "cell_type": "code",
   "execution_count": 123,
   "metadata": {},
   "outputs": [
    {
     "data": {
      "text/plain": [
       "45.7"
      ]
     },
     "execution_count": 123,
     "metadata": {},
     "output_type": "execute_result"
    }
   ],
   "source": [
    "pi(5)"
   ]
  },
  {
   "cell_type": "code",
   "execution_count": null,
   "metadata": {},
   "outputs": [],
   "source": []
  }
 ],
 "metadata": {
  "kernelspec": {
   "display_name": "Python 3",
   "language": "python",
   "name": "python3"
  },
  "language_info": {
   "codemirror_mode": {
    "name": "ipython",
    "version": 3
   },
   "file_extension": ".py",
   "mimetype": "text/x-python",
   "name": "python",
   "nbconvert_exporter": "python",
   "pygments_lexer": "ipython3",
   "version": "3.10.11"
  }
 },
 "nbformat": 4,
 "nbformat_minor": 2
}
