{
 "cells": [
  {
   "cell_type": "markdown",
   "metadata": {},
   "source": [
    "CONDITIONS & LOGIC"
   ]
  },
  {
   "cell_type": "code",
   "execution_count": 6,
   "metadata": {},
   "outputs": [
    {
     "name": "stdout",
     "output_type": "stream",
     "text": [
      "how is the space \n"
     ]
    }
   ],
   "source": [
    "# Applying logic  using the if statement\n",
    "name = 'Neil Armstrong'\n",
    "if name =='Neil Armstrong' :\n",
    "    print('how is the space ')\n",
    "    #else : \n",
    "        #print('he is not here')\n"
   ]
  },
  {
   "cell_type": "code",
   "execution_count": 7,
   "metadata": {},
   "outputs": [
    {
     "name": "stdout",
     "output_type": "stream",
     "text": [
      "number is greater\n"
     ]
    }
   ],
   "source": [
    "test_number=10\n",
    "if test_number >=5 :\n",
    "    print('number is greater')"
   ]
  },
  {
   "cell_type": "code",
   "execution_count": 13,
   "metadata": {},
   "outputs": [
    {
     "name": "stdout",
     "output_type": "stream",
     "text": [
      "prbabilities cant be minus\n"
     ]
    }
   ],
   "source": [
    "probability = -0.4\n",
    "if probability >= 0.5:\n",
    "    print(True)\n",
    "if probability< 0  :\n",
    "    print('prbabilities cant be minus')   \n",
    "else:\n",
    "    print(False)\n"
   ]
  },
  {
   "cell_type": "markdown",
   "metadata": {},
   "source": [
    "LOOPS "
   ]
  },
  {
   "cell_type": "code",
   "execution_count": 15,
   "metadata": {},
   "outputs": [],
   "source": [
    "names=['rahul','rohan','snehal','sai','sahil']"
   ]
  },
  {
   "cell_type": "code",
   "execution_count": 34,
   "metadata": {},
   "outputs": [
    {
     "name": "stdout",
     "output_type": "stream",
     "text": [
      "rahul\n",
      "rohan\n",
      "ha yahi hu \n",
      "\n",
      "snehal\n",
      "hi snehal\n"
     ]
    }
   ],
   "source": [
    "#FOR LOOPS \n",
    "\n",
    "for name in names:\n",
    "    print(name)\n",
    "    if name == 'rohan':\n",
    "            print(\"ha yahi hu \\n\")\n",
    "            continue\n",
    "    elif name == 'snehal':\n",
    "        print('hi snehal')\n",
    "        break\n",
    "    else : \n",
    "        pass\n",
    "        #print('Name not a part of conditions')\n",
    "        #print('hello duniya! \\n')"
   ]
  },
  {
   "cell_type": "code",
   "execution_count": 36,
   "metadata": {},
   "outputs": [
    {
     "name": "stdout",
     "output_type": "stream",
     "text": [
      "1\n",
      "2\n",
      "3\n",
      "4\n",
      "5\n",
      "6\n",
      "7\n",
      "8\n",
      "9\n",
      "10\n"
     ]
    }
   ],
   "source": [
    "for id in range(1,11):\n",
    "    print(id)"
   ]
  },
  {
   "cell_type": "code",
   "execution_count": 42,
   "metadata": {},
   "outputs": [
    {
     "name": "stdout",
     "output_type": "stream",
     "text": [
      "shuttle 1 launched\n",
      "shuttle 2 launched\n",
      "shuttle 3 launched\n",
      "shuttle 4 launched\n",
      "shuttle 5 launched\n",
      "all shuttle launched \n"
     ]
    }
   ],
   "source": [
    "launched_shuttles=0\n",
    "total_shuttles=5\n",
    "\n",
    "while True:\n",
    "    print('shuttle {} launched'.format(launched_shuttles + 1))\n",
    "    launched_shuttles = launched_shuttles + 1\n",
    "\n",
    "    if launched_shuttles == total_shuttles :\n",
    "        print(\"all shuttle launched \")\n",
    "        break"
   ]
  },
  {
   "cell_type": "code",
   "execution_count": 39,
   "metadata": {},
   "outputs": [
    {
     "data": {
      "text/plain": [
       "5"
      ]
     },
     "execution_count": 39,
     "metadata": {},
     "output_type": "execute_result"
    }
   ],
   "source": [
    "launched_shuttles"
   ]
  },
  {
   "cell_type": "code",
   "execution_count": 48,
   "metadata": {},
   "outputs": [],
   "source": [
    "astronaut = {\"name\":\"elon musk\",\n",
    "             \"country\" : \"usa\",\n",
    "             \"company\"  :\"tesla\"  }"
   ]
  },
  {
   "cell_type": "code",
   "execution_count": 45,
   "metadata": {},
   "outputs": [
    {
     "name": "stdout",
     "output_type": "stream",
     "text": [
      "name\n",
      "country\n",
      "company\n"
     ]
    }
   ],
   "source": [
    "for key in astronaut.keys():\n",
    "    print(key)"
   ]
  },
  {
   "cell_type": "code",
   "execution_count": 49,
   "metadata": {},
   "outputs": [
    {
     "name": "stdout",
     "output_type": "stream",
     "text": [
      "elon musk\n",
      "usa\n",
      "tesla\n"
     ]
    }
   ],
   "source": [
    "for value in astronaut.values():\n",
    "    print(value)"
   ]
  },
  {
   "cell_type": "code",
   "execution_count": 52,
   "metadata": {},
   "outputs": [
    {
     "name": "stdout",
     "output_type": "stream",
     "text": [
      "name elon musk \n",
      "\n",
      "country usa \n",
      "\n",
      "company tesla \n",
      "\n"
     ]
    }
   ],
   "source": [
    "#loop through value and key\n",
    "for key,value in astronaut.items():\n",
    "    print(key,value,'\\n')"
   ]
  },
  {
   "cell_type": "code",
   "execution_count": 53,
   "metadata": {},
   "outputs": [],
   "source": [
    "#List comprehension\n",
    "new_list=[name.title() for name in names]"
   ]
  },
  {
   "cell_type": "code",
   "execution_count": 54,
   "metadata": {},
   "outputs": [
    {
     "data": {
      "text/plain": [
       "['Rahul', 'Rohan', 'Snehal', 'Sai', 'Sahil']"
      ]
     },
     "execution_count": 54,
     "metadata": {},
     "output_type": "execute_result"
    }
   ],
   "source": [
    "new_list"
   ]
  },
  {
   "cell_type": "code",
   "execution_count": 55,
   "metadata": {},
   "outputs": [
    {
     "data": {
      "text/plain": [
       "['rahul', 'rohan', 'snehal', 'sai', 'sahil']"
      ]
     },
     "execution_count": 55,
     "metadata": {},
     "output_type": "execute_result"
    }
   ],
   "source": [
    "names"
   ]
  },
  {
   "cell_type": "code",
   "execution_count": null,
   "metadata": {},
   "outputs": [],
   "source": []
  }
 ],
 "metadata": {
  "kernelspec": {
   "display_name": "Python 3",
   "language": "python",
   "name": "python3"
  },
  "language_info": {
   "codemirror_mode": {
    "name": "ipython",
    "version": 3
   },
   "file_extension": ".py",
   "mimetype": "text/x-python",
   "name": "python",
   "nbconvert_exporter": "python",
   "pygments_lexer": "ipython3",
   "version": "3.10.11"
  }
 },
 "nbformat": 4,
 "nbformat_minor": 2
}
